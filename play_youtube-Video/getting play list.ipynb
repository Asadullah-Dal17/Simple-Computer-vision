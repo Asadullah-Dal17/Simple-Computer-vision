{
 "cells": [
  {
   "cell_type": "code",
   "execution_count": 3,
   "id": "07e7a99b",
   "metadata": {},
   "outputs": [],
   "source": [
    "import pafy\n",
    "import pytube\n",
    "import cv2 as cv "
   ]
  },
  {
   "cell_type": "code",
   "execution_count": 9,
   "id": "159b08f5",
   "metadata": {},
   "outputs": [],
   "source": [
    "import time \n",
    "p_list = pytube.Playlist(\"https://www.youtube.com/watch?v=niUaRPODJRs&list=PLfO9FGU3S5cipr58gZUv9F-XYqo_X3ifP\")\n",
    "for url in p_list:\n",
    "    video = pafy.new(url)\n",
    "    best=video.getbest(preftype=\"mp4\")\n",
    "    cap = cv.VideoCapture(best.url)\n",
    "    start_time = time.time()\n",
    "    ret, frame = cap.read()\n",
    "    frame_counter =0\n",
    "    while True:\n",
    "        frame_counter +=1\n",
    "        ret, frame =cap.read()\n",
    "        fps = frame_counter/(time.time() - start_time)\n",
    "        cv.putText(frame, f'FPS {round(fps,2)}', (40,30), cv.FONT_HERSHEY_PLAIN, 1.5, (0,255,100), 2, cv.LINE_AA)\n",
    "        cv.imshow('img', frame)\n",
    "        key =cv.waitKey(1)\n",
    "        if key ==ord('q'):\n",
    "            break\n",
    "    print('complete play list')\n",
    "    cv.destroyAllWindows()\n",
    "    cap.release()\n",
    "#     print(video.author)"
   ]
  }
 ],
 "metadata": {
  "kernelspec": {
   "display_name": "Python 3 (ipykernel)",
   "language": "python",
   "name": "python3"
  },
  "language_info": {
   "codemirror_mode": {
    "name": "ipython",
    "version": 3
   },
   "file_extension": ".py",
   "mimetype": "text/x-python",
   "name": "python",
   "nbconvert_exporter": "python",
   "pygments_lexer": "ipython3",
   "version": "3.8.10"
  }
 },
 "nbformat": 4,
 "nbformat_minor": 5
}
